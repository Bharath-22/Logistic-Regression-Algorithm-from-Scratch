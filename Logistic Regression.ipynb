{
 "cells": [
  {
   "cell_type": "markdown",
   "metadata": {},
   "source": [
    "# Logistic Regression for Binary Classification"
   ]
  },
  {
   "cell_type": "code",
   "execution_count": 47,
   "metadata": {},
   "outputs": [],
   "source": [
    "\n",
    "#Importing essential libraries \n",
    "from sklearn import datasets  #we are going to use the dataset already present it sklearn.datasets\n",
    "import matplotlib.pyplot as plt  #used to plot graphs\n",
    "import seaborn as sns\n",
    "%matplotlib inline\n",
    "sns.set_style(\"ticks\", {\"xtick.major.size\": 8, \"ytick.major.size\": 8}) #setting style for the plot\n",
    "\n",
    "import pandas as pd\n",
    "import numpy as np\n",
    "import math\n"
   ]
  },
  {
   "cell_type": "code",
   "execution_count": 48,
   "metadata": {},
   "outputs": [
    {
     "data": {
      "image/png": "[encoded data removed]",
      "text/plain": [
       "<Figure size 432x288 with 1 Axes>"
      ]
     },
     "metadata": {},
     "output_type": "display_data"
    }
   ],
   "source": [
    "#loading The iris dataset \n",
    "data = datasets.load_iris()\n",
    "\n",
    "#we are going to take only two classes setosa and versicolor\n",
    "#and we only going to take only two features i.e sepallength and sepalwidth for our convenience\n",
    "X = data.data[:100, :2] #first 100 entries with only  sepallength and sepalwidth columns\n",
    "y = data.target[:100] #the target here is the species column , which define setosa and versicolor\n",
    "X_full = data.data[:100, :] #this is the full data that we are using in our algorithm\n",
    "\n",
    "setosa = plt.scatter(X[:50,0], X[:50,1], c='b') #ploting setosa that is the first 50 rows in the dataset\n",
    "versicolor = plt.scatter(X[50:,0], X[50:,1], c='r') #ploting versicolor that is the second 50 rows in the dataset \n",
    "plt.xlabel(\"Sepal Length\")\n",
    "plt.ylabel(\"Sepal Width\")\n",
    "plt.legend((setosa, versicolor), (\"Setosa\", \"Versicolor\"))\n",
    "sns.despine() #to remove top and right boundary line of the plot"
   ]
  },
  {
   "cell_type": "markdown",
   "metadata": {},
   "source": [
    "# Logisitic Function\n",
    "So we want to return a value between 0 and 1 to make sure we are actually representing a probability. To do this we will make use of the logistic function. The logistic function mathematically looks like this:\n",
    "# y=1/1+e^(-x) \n",
    "\n",
    "This function is also called as sigmoid function.\n",
    "\n",
    "Let's take a look at the plot:"
   ]
  },
  {
   "cell_type": "code",
   "execution_count": 49,
   "metadata": {},
   "outputs": [
    {
     "data": {
      "image/png": "[encoded data removed]",
      "text/plain": [
       "<Figure size 432x288 with 1 Axes>"
      ]
     },
     "metadata": {},
     "output_type": "display_data"
    }
   ],
   "source": [
    "#To plot the sigmoid function\n",
    "x_values = np.linspace(-5, 5, 100)\n",
    "y_values = [1 / (1 + math.e**(-x)) for x in x_values]\n",
    "plt.plot(x_values, y_values)\n",
    "plt.axhline(.5)\n",
    "plt.axvline(0)\n",
    "sns.despine()"
   ]
  },
  {
   "cell_type": "markdown",
   "metadata": {},
   "source": [
    "# Hypothesis\n",
    "<img src=\"Hypothesis.png\">"
   ]
  },
  {
   "cell_type": "code",
   "execution_count": 50,
   "metadata": {},
   "outputs": [],
   "source": [
    "# This is the sigmoid function or the logistic function.\n",
    "# This makes sure that the output of the hypothesis we use to be within 0 and 1\n",
    "def logistic_func(b, x):\n",
    "    #here x is of 100*2 matrix and b is 1*2\n",
    "    return float(1) / (1 + math.e**(-x.dot(b)))  \n",
    "    # hypothesis = yi = f(x) this is of the form b.T *x which will return 100*1 i.e 100 values\n"
   ]
  },
  {
   "cell_type": "markdown",
   "metadata": {},
   "source": [
    "# Cost Function\n",
    "<img src=\"CostFunction.png\">"
   ]
  },
  {
   "cell_type": "code",
   "execution_count": 62,
   "metadata": {},
   "outputs": [],
   "source": [
    "#This is the cost function ,\n",
    "# which should decrease in order to find perfect parameters i.e b values , in order to form a near perfect decision boundary\n",
    "# The cost function is: -y*log(f(x))-(1-y)*log(1-f(x))\n",
    "def cost_func(b, x, y):\n",
    "    log_func_v = logistic_func(b,x)\n",
    "    step1 = y * np.log(log_func_v)   # yi*log (f(xi))\n",
    "    step2 = (1-y) * np.log(1 - log_func_v) #(1-yi)*log(1-f(xi))\n",
    "    final = -step1 - step2\n",
    "    return np.mean(final)\n"
   ]
  },
  {
   "cell_type": "markdown",
   "metadata": {},
   "source": [
    "# Gradient Descent\n",
    "<img src=\"Costgd.png\">"
   ]
  },
  {
   "cell_type": "code",
   "execution_count": 52,
   "metadata": {},
   "outputs": [],
   "source": [
    "#This function is used to calculate a part of gradient equation\n",
    "#it would be better if we split gradient descent part into 2 steps\n",
    "def log_gradient(b, x, y):\n",
    "    first_calc = logistic_func(b, x) - y   # [yi - f(xi)]\n",
    "    final_calc = first_calc.T.dot(x)   # part of the cost function [yi - f(xi)]Xi\n",
    "    return final_calc\n"
   ]
  },
  {
   "cell_type": "code",
   "execution_count": 53,
   "metadata": {},
   "outputs": [],
   "source": [
    "#here I have implemented gradient descent to minimize the cost function  \n",
    "def grad_desc(b_values, X, y, lr=.001, converge_change=.001):\n",
    "    #setup cost iter array, to keep track of the cost \n",
    "    cost_iter = []\n",
    "    cost = cost_func(b_values, X, y) # we will get the initial cost with the intial parameters values i.e b values\n",
    "    cost_iter.append([0, cost]) #we append the first cost\n",
    "    change_cost = converge_change + 1 #inital change in the cost to be taken as 1.001\n",
    "    i = 1\n",
    "    while(change_cost > converge_change): #as long as the change in the cost is greater than 0.001 we will keep on \n",
    "        #running the iterations to produce new cost with new parameters till the change is the cost is minimal\n",
    "        old_cost = cost\n",
    "        b_values = b_values - (lr * log_gradient(b_values, X, y))   # bi= bi - [- lr([yi - f(xi)]Xi)] Parameters values changes\n",
    "        cost = cost_func(b_values, X, y)\n",
    "        cost_iter.append([i, cost])\n",
    "        change_cost = old_cost - cost\n",
    "        i+=1\n",
    "    return b_values, np.array(cost_iter)"
   ]
  },
  {
   "cell_type": "code",
   "execution_count": 54,
   "metadata": {},
   "outputs": [],
   "source": [
    "def pred_values(b, X, hard=True):\n",
    "    #This is to predict the values with the to classify into two classes  \n",
    "    pred_prob = logistic_func(b, X)\n",
    "    pred_value = np.where(pred_prob >= .5, 1, 0) \n",
    "    #np.where can be used to generate a array of result based on values in pred_prob array\n",
    "    if hard:\n",
    "        return pred_value\n",
    "    return pred_prob"
   ]
  },
  {
   "cell_type": "code",
   "execution_count": 55,
   "metadata": {},
   "outputs": [
    {
     "name": "stdout",
     "output_type": "stream",
     "text": [
      "[-1.19504298  2.08716169]\n"
     ]
    }
   ],
   "source": [
    "shape = X.shape[1] #X has 100*2 so shape[1] will be 2\n",
    "y_flip = np.logical_not(y) #flip Setosa to be 1 and Versicolor to zero to be consistent\n",
    "betas = np.zeros(shape) #initial parameters value to be taken as zero array with 2 zeros\n",
    "fitted_values, cost_iter = grad_desc(betas, X, y_flip)\n",
    "print(fitted_values)"
   ]
  },
  {
   "cell_type": "code",
   "execution_count": 56,
   "metadata": {},
   "outputs": [
    {
     "name": "stdout",
     "output_type": "stream",
     "text": [
      "[[  0.           0.69314718]\n",
      " [  1.           0.68580273]\n",
      " [  2.           0.67931111]\n",
      " [  3.           0.67292412]\n",
      " [  4.           0.66664001]\n",
      " [  5.           0.66045708]\n",
      " [  6.           0.65437362]\n",
      " [  7.           0.64838794]\n",
      " [  8.           0.64249837]\n",
      " [  9.           0.63670325]\n",
      " [ 10.           0.63100093]\n",
      " [ 11.           0.62538981]\n",
      " [ 12.           0.61986826]\n",
      " [ 13.           0.6144347 ]\n",
      " [ 14.           0.60908757]\n",
      " [ 15.           0.60382531]\n",
      " [ 16.           0.59864641]\n",
      " [ 17.           0.59354934]\n",
      " [ 18.           0.58853263]\n",
      " [ 19.           0.58359481]\n",
      " [ 20.           0.57873443]\n",
      " [ 21.           0.57395007]\n",
      " [ 22.           0.56924034]\n",
      " [ 23.           0.56460385]\n",
      " [ 24.           0.56003924]\n",
      " [ 25.           0.55554519]\n",
      " [ 26.           0.55112038]\n",
      " [ 27.           0.54676351]\n",
      " [ 28.           0.54247333]\n",
      " [ 29.           0.53824858]\n",
      " [ 30.           0.53408804]\n",
      " [ 31.           0.52999051]\n",
      " [ 32.           0.5259548 ]\n",
      " [ 33.           0.52197976]\n",
      " [ 34.           0.51806424]\n",
      " [ 35.           0.51420714]\n",
      " [ 36.           0.51040735]\n",
      " [ 37.           0.5066638 ]\n",
      " [ 38.           0.50297543]\n",
      " [ 39.           0.49934121]\n",
      " [ 40.           0.49576013]\n",
      " [ 41.           0.49223118]\n",
      " [ 42.           0.4887534 ]\n",
      " [ 43.           0.48532583]\n",
      " [ 44.           0.48194752]\n",
      " [ 45.           0.47861756]\n",
      " [ 46.           0.47533506]\n",
      " [ 47.           0.47209912]\n",
      " [ 48.           0.46890888]\n",
      " [ 49.           0.4657635 ]\n",
      " [ 50.           0.46266215]\n",
      " [ 51.           0.45960401]\n",
      " [ 52.           0.45658829]\n",
      " [ 53.           0.4536142 ]\n",
      " [ 54.           0.45068098]\n",
      " [ 55.           0.44778789]\n",
      " [ 56.           0.44493419]\n",
      " [ 57.           0.44211916]\n",
      " [ 58.           0.4393421 ]\n",
      " [ 59.           0.43660232]\n",
      " [ 60.           0.43389915]\n",
      " [ 61.           0.43123193]\n",
      " [ 62.           0.4286    ]\n",
      " [ 63.           0.42600274]\n",
      " [ 64.           0.42343953]\n",
      " [ 65.           0.42090975]\n",
      " [ 66.           0.41841282]\n",
      " [ 67.           0.41594815]\n",
      " [ 68.           0.41351517]\n",
      " [ 69.           0.41111332]\n",
      " [ 70.           0.40874206]\n",
      " [ 71.           0.40640085]\n",
      " [ 72.           0.40408916]\n",
      " [ 73.           0.40180648]\n",
      " [ 74.           0.39955232]\n",
      " [ 75.           0.39732617]\n",
      " [ 76.           0.39512755]\n",
      " [ 77.           0.39295599]\n",
      " [ 78.           0.39081103]\n",
      " [ 79.           0.38869222]\n",
      " [ 80.           0.3865991 ]\n",
      " [ 81.           0.38453125]\n",
      " [ 82.           0.38248824]\n",
      " [ 83.           0.38046965]\n",
      " [ 84.           0.37847507]\n",
      " [ 85.           0.3765041 ]\n",
      " [ 86.           0.37455636]\n",
      " [ 87.           0.37263144]\n",
      " [ 88.           0.37072898]\n",
      " [ 89.           0.36884861]\n",
      " [ 90.           0.36698997]\n",
      " [ 91.           0.3651527 ]\n",
      " [ 92.           0.36333645]\n",
      " [ 93.           0.36154089]\n",
      " [ 94.           0.35976567]\n",
      " [ 95.           0.35801048]\n",
      " [ 96.           0.35627499]\n",
      " [ 97.           0.35455889]\n",
      " [ 98.           0.35286186]\n",
      " [ 99.           0.35118361]\n",
      " [100.           0.34952385]\n",
      " [101.           0.34788227]\n",
      " [102.           0.3462586 ]\n",
      " [103.           0.34465256]\n",
      " [104.           0.34306386]\n",
      " [105.           0.34149226]\n",
      " [106.           0.33993747]\n",
      " [107.           0.33839925]\n",
      " [108.           0.33687733]\n",
      " [109.           0.33537148]\n",
      " [110.           0.33388144]\n",
      " [111.           0.33240699]\n",
      " [112.           0.33094787]\n",
      " [113.           0.32950387]\n",
      " [114.           0.32807476]\n",
      " [115.           0.32666031]\n",
      " [116.           0.32526032]\n",
      " [117.           0.32387456]\n",
      " [118.           0.32250282]\n",
      " [119.           0.32114491]\n",
      " [120.           0.31980061]\n",
      " [121.           0.31846974]\n",
      " [122.           0.31715209]\n",
      " [123.           0.31584748]\n",
      " [124.           0.31455572]\n",
      " [125.           0.31327662]\n",
      " [126.           0.31201001]\n",
      " [127.           0.3107557 ]\n",
      " [128.           0.30951353]\n",
      " [129.           0.30828332]\n",
      " [130.           0.30706491]\n",
      " [131.           0.30585812]\n",
      " [132.           0.3046628 ]\n",
      " [133.           0.30347879]\n",
      " [134.           0.30230594]\n",
      " [135.           0.30114408]\n",
      " [136.           0.29999307]\n",
      " [137.           0.29885276]\n",
      " [138.           0.297723  ]\n",
      " [139.           0.29660366]\n",
      " [140.           0.29549459]\n",
      " [141.           0.29439565]\n",
      " [142.           0.2933067 ]\n",
      " [143.           0.29222762]\n",
      " [144.           0.29115828]\n",
      " [145.           0.29009853]\n",
      " [146.           0.28904827]\n",
      " [147.           0.28800735]\n",
      " [148.           0.28697567]\n",
      " [149.           0.28595309]\n",
      " [150.           0.28493951]\n",
      " [151.           0.2839348 ]\n",
      " [152.           0.28293885]]\n"
     ]
    }
   ],
   "source": [
    "print(cost_iter)  "
   ]
  },
  {
   "cell_type": "markdown",
   "metadata": {},
   "source": [
    "we can see how cost has decresed over the iterations with different parameters.\n",
    "we can also observe that the last two entries in this array i.e the 151 and 152 entries,\n",
    "the change in the cost is almost equal to 0.001, This will stop the gradient descent \n",
    "and the parameter values used in the 152 iteration's cost function is used as the optimal parameters to generate the decision boundary"
   ]
  },
  {
   "cell_type": "code",
   "execution_count": 57,
   "metadata": {},
   "outputs": [
    {
     "data": {
      "text/plain": [
       "array([1, 1, 1, 1, 1, 1, 1, 1, 1, 1, 1, 1, 1, 1, 1, 1, 1, 1, 1, 1, 1, 1,\n",
       "       1, 1, 1, 1, 1, 1, 1, 1, 1, 1, 1, 1, 1, 1, 1, 1, 1, 1, 1, 0, 1, 1,\n",
       "       1, 1, 1, 1, 1, 1, 0, 0, 0, 0, 0, 0, 0, 0, 0, 0, 0, 0, 0, 0, 0, 0,\n",
       "       0, 0, 0, 0, 0, 0, 0, 0, 0, 0, 0, 0, 0, 0, 0, 0, 0, 0, 0, 0, 0, 0,\n",
       "       0, 0, 0, 0, 0, 0, 0, 0, 0, 0, 0, 0])"
      ]
     },
     "execution_count": 57,
     "metadata": {},
     "output_type": "execute_result"
    }
   ],
   "source": [
    "#We can see the predicted values here\n",
    "predicted_y = pred_values(fitted_values, X,hard = True)\n",
    "predicted_y\n",
    "#In the 1st 50 values one of the value is incorrectly predicted "
   ]
  },
  {
   "cell_type": "markdown",
   "metadata": {},
   "source": [
    "# The decision boundary of the algorithm\n",
    "<img src=\"Logistic fit.png\">"
   ]
  },
  {
   "cell_type": "code",
   "execution_count": 59,
   "metadata": {},
   "outputs": [
    {
     "data": {
      "text/plain": [
       "99"
      ]
     },
     "execution_count": 59,
     "metadata": {},
     "output_type": "execute_result"
    }
   ],
   "source": [
    "#since one of it is incorrectly predicted , so the below line gives 99 i.e 99 values are correct\n",
    "np.sum(y_flip == predicted_y)"
   ]
  },
  {
   "cell_type": "code",
   "execution_count": 60,
   "metadata": {},
   "outputs": [
    {
     "data": {
      "image/png": "[encoded data removed]",
      "text/plain": [
       "<Figure size 432x288 with 1 Axes>"
      ]
     },
     "metadata": {},
     "output_type": "display_data"
    }
   ],
   "source": [
    "#The cost over iteration is plotted below\n",
    "plt.plot(cost_iter[:,0], cost_iter[:,1])\n",
    "plt.ylabel(\"Cost\")\n",
    "plt.xlabel(\"Iteration\")\n",
    "sns.despine()"
   ]
  },
  {
   "cell_type": "code",
   "execution_count": 61,
   "metadata": {},
   "outputs": [
    {
     "data": {
      "text/plain": [
       "100"
      ]
     },
     "execution_count": 61,
     "metadata": {},
     "output_type": "execute_result"
    }
   ],
   "source": [
    "#Comparing the model i have built with the sklearn's model\n",
    "from sklearn import linear_model\n",
    "logreg = linear_model.LogisticRegression()\n",
    "logreg.fit(X, y_flip)\n",
    "sum(y_flip == logreg.predict(X)) #Checking whether output of our model is equal to sklearn model's output \n",
    "#The sum total of correct predictions is 100 \n",
    "#so we can infer that our model is working just like sklearn's model"
   ]
  }
 ],
 "metadata": {
  "kernelspec": {
   "display_name": "Python 3",
   "language": "python",
   "name": "python3"
  },
  "language_info": {
   "codemirror_mode": {
    "name": "ipython",
    "version": 3
   },
   "file_extension": ".py",
   "mimetype": "text/x-python",
   "name": "python",
   "nbconvert_exporter": "python",
   "pygments_lexer": "ipython3",
   "version": "3.7.6"
  }
 },
 "nbformat": 4,
 "nbformat_minor": 2
}
